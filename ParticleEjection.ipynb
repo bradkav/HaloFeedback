{
 "cells": [
  {
   "cell_type": "markdown",
   "metadata": {},
   "source": [
    "## Particle ejection in dressed BH binaries\n",
    "\n",
    "**Units:**  \n",
    "    - Masses [M_sun]  \n",
    "    - Times [s]  \n",
    "    - Distances [pc]  \n",
    "    - Speeds [km/s]  \n",
    "    - Density [M_sun/pc^3]  "
   ]
  },
  {
   "cell_type": "code",
   "execution_count": 18,
   "metadata": {},
   "outputs": [],
   "source": [
    "%matplotlib inline"
   ]
  },
  {
   "cell_type": "code",
   "execution_count": 19,
   "metadata": {},
   "outputs": [],
   "source": [
    "import numpy as np\n",
    "import matplotlib.pyplot as plt\n",
    "\n",
    "import matplotlib\n",
    "matplotlib.rcParams.update({'font.size': 18})"
   ]
  },
  {
   "cell_type": "code",
   "execution_count": 20,
   "metadata": {},
   "outputs": [],
   "source": [
    "import HaloFeedback"
   ]
  },
  {
   "cell_type": "code",
   "execution_count": 21,
   "metadata": {},
   "outputs": [
    {
     "name": "stdout",
     "output_type": "stream",
     "text": [
      "Gamma_sp\t=  2.3333333333333335\n",
      "M_1\t\t=  1000.0  M_sun\n",
      "M_2\t\t=  1.0  M_sun\n",
      "rho_sp\t\t=  226  M_sun/pc^3\n"
     ]
    }
   ],
   "source": [
    "DF = HaloFeedback.PowerLawSpike()\n",
    "\n",
    "# This defaults to some standard values for the\n",
    "# density profile and masses:\n",
    "\n",
    "print(\"Gamma_sp\\t= \", DF.gamma)\n",
    "print(\"M_1\\t\\t= \", DF.M_BH, \" M_sun\")\n",
    "print(\"M_2\\t\\t= \", DF.M_NS, \" M_sun\")\n",
    "print(\"rho_sp\\t\\t= \", DF.rho_sp, \" M_sun/pc^3\")\n"
   ]
  },
  {
   "cell_type": "code",
   "execution_count": 27,
   "metadata": {},
   "outputs": [
    {
     "name": "stdout",
     "output_type": "stream",
     "text": [
      "rho_DM(r0)\t\t= 2.1567857624936415e+19  M_sun/pc^3\n"
     ]
    }
   ],
   "source": [
    "r0 = 100*DF.r_isco #Separation of the binary\n",
    "v_orb = DF.v_circ(r0) #Orbital velocity of the binary\n",
    "print(\"rho_DM(r0)\\t\\t=\", DF.rho_init(r0), \" M_sun/pc^3\")"
   ]
  },
  {
   "cell_type": "markdown",
   "metadata": {},
   "source": [
    "The `HaloFeedback` code can return:\n",
    "\n",
    "$$ \\frac{\\mathrm{d}M_\\mathrm{ej}}{\\mathrm{d}E\\mathrm{d}t}$$\n",
    "\n",
    "the rate of mass ejected from the system, as a function of the specific energy $E = \\frac{1}{2}v^2$ of the particles, per unit time. First, let's calculate the total mass ejection rate:"
   ]
  },
  {
   "cell_type": "code",
   "execution_count": 14,
   "metadata": {},
   "outputs": [
    {
     "name": "stdout",
     "output_type": "stream",
     "text": [
      "Mass ejection rate [Msun/s]: 9.532104237197139e-11\n"
     ]
    }
   ],
   "source": [
    "E_grid, dMdEdt = DF.dMdtdE_ej(r0, v_orb)\n",
    "dMdt = np.abs(np.trapz(dMdEdt, E_grid))\n",
    "print(\"Mass ejection rate [Msun/s]:\", dMdt)"
   ]
  },
  {
   "cell_type": "markdown",
   "metadata": {},
   "source": [
    "Now calculate the velocity distribution of particles (which is a bit more familiar):"
   ]
  },
  {
   "cell_type": "code",
   "execution_count": 13,
   "metadata": {},
   "outputs": [
    {
     "name": "stderr",
     "output_type": "stream",
     "text": [
      "<ipython-input-13-83e22ce16d6b>:11: RuntimeWarning: invalid value encountered in sqrt\n",
      "  vs = np.sqrt(2*(DF.psi(r0) - DF.eps_grid))\n"
     ]
    },
    {
     "data": {
      "image/png": "[encoded data removed]",
      "text/plain": [
       "<Figure size 504x360 with 1 Axes>"
      ]
     },
     "metadata": {
      "needs_background": "light"
     },
     "output_type": "display_data"
    }
   ],
   "source": [
    "v_grid = np.sqrt(2*np.abs(E_grid))\n",
    "dMdvdt = v_grid*dMdEdt\n",
    "\n",
    "dfdv = np.abs(dMdvdt)/dMdt\n",
    "\n",
    "plt.figure(figsize=(7,5))\n",
    "\n",
    "plt.loglog(v_grid, np.abs(dfdv), label='Ejected particles')\n",
    "\n",
    "#Now we plot the distribution of velocities at the orbital radius\n",
    "vs = np.sqrt(2*(DF.psi(r0) - DF.eps_grid))\n",
    "plt.loglog(vs, 4*np.pi*vs**2*DF.f_eps/DF.rho_init(r0), label=r'Spike particles as $r_0$')\n",
    "plt.axvline(v_orb, linestyle='--', color='k')\n",
    "#plt.axvline(np.sqrt(2)*v_orb, linestyle='--', color='k')\n",
    "\n",
    "plt.legend()\n",
    "\n",
    "plt.xlim(1e0, 1e5)\n",
    "plt.ylim(1e-7, 1e-3)\n",
    "\n",
    "plt.xlabel(r\"$v$ [km/s]\")\n",
    "plt.ylabel(r\"$f(v)$ [$(\\mathrm{km/s})^{-1}$]\")\n",
    "plt.savefig(\"plots/EjectedDistribution.pdf\", bbox_inches='tight')\n",
    "plt.show()"
   ]
  },
  {
   "cell_type": "code",
   "execution_count": null,
   "metadata": {},
   "outputs": [],
   "source": []
  },
  {
   "cell_type": "code",
   "execution_count": null,
   "metadata": {},
   "outputs": [],
   "source": []
  }
 ],
 "metadata": {
  "kernelspec": {
   "display_name": "igwn-py38",
   "language": "python",
   "name": "igwn-py38"
  },
  "language_info": {
   "codemirror_mode": {
    "name": "ipython",
    "version": 3
   },
   "file_extension": ".py",
   "mimetype": "text/x-python",
   "name": "python",
   "nbconvert_exporter": "python",
   "pygments_lexer": "ipython3",
   "version": "3.8.6"
  }
 },
 "nbformat": 4,
 "nbformat_minor": 4
}
